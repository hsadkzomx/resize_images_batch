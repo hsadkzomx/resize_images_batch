{
 "cells": [
  {
   "cell_type": "markdown",
   "id": "277c326f-6256-4346-9696-3bf52405b95b",
   "metadata": {},
   "source": [
    "# Resizing images in batch"
   ]
  },
  {
   "cell_type": "markdown",
   "id": "02cffe23-0ad5-49b0-a1a7-d7ee15d735cc",
   "metadata": {},
   "source": [
    "## Configuration"
   ]
  },
  {
   "cell_type": "code",
   "execution_count": 2,
   "id": "2f3d3e37-8b80-4ef8-bf59-02ac9d7691a3",
   "metadata": {},
   "outputs": [],
   "source": [
    "image_size = 256\n",
    "image_input_folder = \"hist_examples\"\n",
    "image_output_folder = \"outputs\""
   ]
  },
  {
   "cell_type": "markdown",
   "id": "71bf94b9-b318-4bf4-9360-e6667449535a",
   "metadata": {},
   "source": [
    "## Importing libaries"
   ]
  },
  {
   "cell_type": "code",
   "execution_count": 5,
   "id": "70afade4-1f42-4c6d-9c49-bf76bf30a962",
   "metadata": {},
   "outputs": [],
   "source": [
    "import numpy as np\n",
    "from PIL import Image\n",
    "\n",
    "import os\n",
    "\n",
    "import matplotlib.pyplot as plt"
   ]
  },
  {
   "cell_type": "markdown",
   "id": "8d73414d-0e45-4a5e-94a9-0c427894db2f",
   "metadata": {},
   "source": [
    "## Creating output folder if not exist"
   ]
  },
  {
   "cell_type": "code",
   "execution_count": 6,
   "id": "50a3226e-491b-413f-9f21-d9198c89b67e",
   "metadata": {},
   "outputs": [],
   "source": [
    "if not os.path.exists(image_output_folder):\n",
    "    os.makedirs(image_output_folder)"
   ]
  },
  {
   "cell_type": "markdown",
   "id": "0fcd678c-4950-4bea-ac1c-c4691a90699c",
   "metadata": {},
   "source": [
    "## Loading images"
   ]
  },
  {
   "cell_type": "code",
   "execution_count": 30,
   "id": "377271e7-e791-4976-bce1-61348461826f",
   "metadata": {
    "papermill": {
     "duration": 0.823735,
     "end_time": "2021-09-25T23:24:07.542895",
     "exception": false,
     "start_time": "2021-09-25T23:24:06.719160",
     "status": "completed"
    },
    "tags": []
   },
   "outputs": [],
   "source": [
    "def load_and_resize_image_files( image_folder, \n",
    "                                 image_size = 256,\n",
    "                                 max_num_of_images = None #the maximum number of images\n",
    "                 ):\n",
    "    \n",
    "    print(f\"Loading from {image_folder} ...\")\n",
    "    \n",
    "    suffixes = (\".tif\", \".gif\", \".png\", \".jpg\", \".bmp\")\n",
    "        \n",
    "    imgfiles = []\n",
    "        \n",
    "    for root, dirs, files in os.walk(image_folder, topdown = True):\n",
    "        for name in files:\n",
    "            imgfile = os.path.join(root, name)\n",
    "            if not name.startswith(\".\") and name.endswith(suffixes):\n",
    "                imgfiles.append(imgfile)\n",
    "    \n",
    "    imgfiles = sorted(imgfiles)\n",
    "        \n",
    "    \n",
    "    images = []\n",
    "    filenames = []\n",
    "    \n",
    "    if max_num_of_images is None:\n",
    "        max_num_of_images = len(imgfiles)\n",
    "    \n",
    "    for idx, imgfile in enumerate(imgfiles, 1):\n",
    "        \n",
    "        img = Image.open(imgfile)\n",
    "        img = img.convert('RGB')\n",
    "        img = img.resize((image_size, image_size))\n",
    "        \n",
    "        img = np.asarray(img)\n",
    "                \n",
    "        images.append(img)\n",
    "        \n",
    "        #save filename\n",
    "        filename = os.path.basename(imgfile)\n",
    "        \n",
    "        filenames.append(filename)\n",
    "        \n",
    "        print(f\"Loading {idx} - {imgfile}\", end = \"\\r\")\n",
    "        \n",
    "        if idx >= max_num_of_images:\n",
    "            break\n",
    "        \n",
    "    images = np.array(images)\n",
    "    \n",
    "    print()\n",
    "    print(\"Loading finished.\")\n",
    "    \n",
    "    return images, filenames"
   ]
  },
  {
   "cell_type": "code",
   "execution_count": 31,
   "id": "5cf63b3a-3a87-44d9-a8aa-75b19cdd2773",
   "metadata": {},
   "outputs": [
    {
     "name": "stdout",
     "output_type": "stream",
     "text": [
      "Loading from hist_examples ...\n",
      "Loading 10 - hist_examples/fig_korea_street_1.pngng\n",
      "Loading finished.\n"
     ]
    }
   ],
   "source": [
    "resized_images, filenames = load_and_resize_image_files(image_folder =image_input_folder, \n",
    "                                             image_size = image_size)"
   ]
  },
  {
   "cell_type": "markdown",
   "id": "8224fe9c-d132-43e7-a308-92d417a9a46e",
   "metadata": {},
   "source": [
    "## Saving images back to disk"
   ]
  },
  {
   "cell_type": "code",
   "execution_count": 34,
   "id": "1b91330d-eaec-4aab-bf91-bd2bc5a1b3d6",
   "metadata": {},
   "outputs": [],
   "source": [
    "def save_images(save_folder, images, filenames):\n",
    "    \n",
    "    for idx, (img, filename) in enumerate(zip(images, filenames)):\n",
    "        \n",
    "        path = save_folder + os.sep + filename\n",
    "        \n",
    "        img_ = Image.fromarray(img, mode = 'RGB')\n",
    "        img_.save(path)\n",
    "        \n",
    "        print(f\"Saving {idx} - {filename}\", end = \"\\r\")\n",
    "    \n",
    "    print()\n",
    "    print(\"Saving finished.\")"
   ]
  },
  {
   "cell_type": "code",
   "execution_count": 35,
   "id": "966d492f-c09a-470e-9d09-158d668056ff",
   "metadata": {},
   "outputs": [
    {
     "name": "stdout",
     "output_type": "stream",
     "text": [
      "Saving 9 - fig_korea_street_1.pngpng\n",
      "Saving finished.\n"
     ]
    }
   ],
   "source": [
    "save_images(save_folder = image_output_folder, \n",
    "            images = resized_images, \n",
    "            filenames = filenames)"
   ]
  },
  {
   "cell_type": "code",
   "execution_count": null,
   "id": "f37ea6b4-12f5-41a2-9423-a8161433f01b",
   "metadata": {},
   "outputs": [],
   "source": []
  }
 ],
 "metadata": {
  "kernelspec": {
   "display_name": "Python 3",
   "language": "python",
   "name": "python3"
  },
  "language_info": {
   "codemirror_mode": {
    "name": "ipython",
    "version": 3
   },
   "file_extension": ".py",
   "mimetype": "text/x-python",
   "name": "python",
   "nbconvert_exporter": "python",
   "pygments_lexer": "ipython3",
   "version": "3.8.8"
  }
 },
 "nbformat": 4,
 "nbformat_minor": 5
}
